{
  "cells": [
    {
      "cell_type": "markdown",
      "source": [
        "# Q4:b)Implement Gradient Descent algorithm in the following manner:  (Give it a try)\n",
        "a. First take a dataset with single independent variable and find the best fit using Simple Linear Regression. \n",
        "\n",
        "b. Using the values of coefficients given in step a, apply gradient descent to minimize loss function and then make prediction again. \n",
        "\n",
        "c. Compare the best fit line of case a and b. \n"
      ],
      "metadata": {
        "id": "_fM31HFIYjRR"
      }
    },
    {
      "cell_type": "code",
      "execution_count": null,
      "metadata": {
        "id": "3j0uQonnXjqX"
      },
      "outputs": [],
      "source": [
        "import pandas as pd\n",
        "import numpy as np\n",
        "from sklearn.model_selection import train_test_split\n",
        "from sklearn.linear_model import LinearRegression\n",
        "from sklearn.metrics import mean_squared_error"
      ]
    },
    {
      "cell_type": "code",
      "execution_count": null,
      "metadata": {
        "id": "K0T19fjjXjqh"
      },
      "outputs": [],
      "source": [
        "seed = 23"
      ]
    },
    {
      "cell_type": "code",
      "execution_count": null,
      "metadata": {
        "id": "TFtGPgNJXjql"
      },
      "outputs": [],
      "source": [
        "df = pd.read_csv(\"experience_salary.csv\")"
      ]
    },
    {
      "cell_type": "code",
      "execution_count": null,
      "metadata": {
        "id": "7QJCmfseXjqm",
        "outputId": "f568a05f-4f42-4d45-eaed-87021d87e8f0"
      },
      "outputs": [
        {
          "data": {
            "text/html": [
              "<div>\n",
              "<style scoped>\n",
              "    .dataframe tbody tr th:only-of-type {\n",
              "        vertical-align: middle;\n",
              "    }\n",
              "\n",
              "    .dataframe tbody tr th {\n",
              "        vertical-align: top;\n",
              "    }\n",
              "\n",
              "    .dataframe thead th {\n",
              "        text-align: right;\n",
              "    }\n",
              "</style>\n",
              "<table border=\"1\" class=\"dataframe\">\n",
              "  <thead>\n",
              "    <tr style=\"text-align: right;\">\n",
              "      <th></th>\n",
              "      <th>YearsExperience</th>\n",
              "      <th>Salary</th>\n",
              "    </tr>\n",
              "  </thead>\n",
              "  <tbody>\n",
              "    <tr>\n",
              "      <th>0</th>\n",
              "      <td>1.1</td>\n",
              "      <td>39343.0</td>\n",
              "    </tr>\n",
              "    <tr>\n",
              "      <th>1</th>\n",
              "      <td>1.3</td>\n",
              "      <td>46205.0</td>\n",
              "    </tr>\n",
              "    <tr>\n",
              "      <th>2</th>\n",
              "      <td>1.5</td>\n",
              "      <td>37731.0</td>\n",
              "    </tr>\n",
              "    <tr>\n",
              "      <th>3</th>\n",
              "      <td>2.0</td>\n",
              "      <td>43525.0</td>\n",
              "    </tr>\n",
              "    <tr>\n",
              "      <th>4</th>\n",
              "      <td>2.2</td>\n",
              "      <td>39891.0</td>\n",
              "    </tr>\n",
              "  </tbody>\n",
              "</table>\n",
              "</div>"
            ],
            "text/plain": [
              "   YearsExperience   Salary\n",
              "0              1.1  39343.0\n",
              "1              1.3  46205.0\n",
              "2              1.5  37731.0\n",
              "3              2.0  43525.0\n",
              "4              2.2  39891.0"
            ]
          },
          "execution_count": 548,
          "metadata": {},
          "output_type": "execute_result"
        }
      ],
      "source": [
        "df.head()"
      ]
    },
    {
      "cell_type": "code",
      "execution_count": null,
      "metadata": {
        "id": "M6x4dYlyXjqo",
        "outputId": "73a91832-bf8e-4494-91f0-bcc2dc445e87"
      },
      "outputs": [
        {
          "data": {
            "text/plain": [
              "YearsExperience    0\n",
              "Salary             0\n",
              "dtype: int64"
            ]
          },
          "execution_count": 549,
          "metadata": {},
          "output_type": "execute_result"
        }
      ],
      "source": [
        "df.isna().sum()"
      ]
    },
    {
      "cell_type": "code",
      "execution_count": null,
      "metadata": {
        "id": "eMlRPFU5Xjqp",
        "outputId": "842d9467-2e97-4654-aef8-6b4ea60ee3ca"
      },
      "outputs": [
        {
          "data": {
            "text/html": [
              "<div>\n",
              "<style scoped>\n",
              "    .dataframe tbody tr th:only-of-type {\n",
              "        vertical-align: middle;\n",
              "    }\n",
              "\n",
              "    .dataframe tbody tr th {\n",
              "        vertical-align: top;\n",
              "    }\n",
              "\n",
              "    .dataframe thead th {\n",
              "        text-align: right;\n",
              "    }\n",
              "</style>\n",
              "<table border=\"1\" class=\"dataframe\">\n",
              "  <thead>\n",
              "    <tr style=\"text-align: right;\">\n",
              "      <th></th>\n",
              "      <th>YearsExperience</th>\n",
              "      <th>Salary</th>\n",
              "    </tr>\n",
              "  </thead>\n",
              "  <tbody>\n",
              "    <tr>\n",
              "      <th>count</th>\n",
              "      <td>30.000000</td>\n",
              "      <td>30.000000</td>\n",
              "    </tr>\n",
              "    <tr>\n",
              "      <th>mean</th>\n",
              "      <td>5.313333</td>\n",
              "      <td>76003.000000</td>\n",
              "    </tr>\n",
              "    <tr>\n",
              "      <th>std</th>\n",
              "      <td>2.837888</td>\n",
              "      <td>27414.429785</td>\n",
              "    </tr>\n",
              "    <tr>\n",
              "      <th>min</th>\n",
              "      <td>1.100000</td>\n",
              "      <td>37731.000000</td>\n",
              "    </tr>\n",
              "    <tr>\n",
              "      <th>25%</th>\n",
              "      <td>3.200000</td>\n",
              "      <td>56720.750000</td>\n",
              "    </tr>\n",
              "    <tr>\n",
              "      <th>50%</th>\n",
              "      <td>4.700000</td>\n",
              "      <td>65237.000000</td>\n",
              "    </tr>\n",
              "    <tr>\n",
              "      <th>75%</th>\n",
              "      <td>7.700000</td>\n",
              "      <td>100544.750000</td>\n",
              "    </tr>\n",
              "    <tr>\n",
              "      <th>max</th>\n",
              "      <td>10.500000</td>\n",
              "      <td>122391.000000</td>\n",
              "    </tr>\n",
              "  </tbody>\n",
              "</table>\n",
              "</div>"
            ],
            "text/plain": [
              "       YearsExperience         Salary\n",
              "count        30.000000      30.000000\n",
              "mean          5.313333   76003.000000\n",
              "std           2.837888   27414.429785\n",
              "min           1.100000   37731.000000\n",
              "25%           3.200000   56720.750000\n",
              "50%           4.700000   65237.000000\n",
              "75%           7.700000  100544.750000\n",
              "max          10.500000  122391.000000"
            ]
          },
          "execution_count": 550,
          "metadata": {},
          "output_type": "execute_result"
        }
      ],
      "source": [
        "df.describe()"
      ]
    },
    {
      "cell_type": "code",
      "execution_count": null,
      "metadata": {
        "id": "DzS5DNp6Xjqq"
      },
      "outputs": [],
      "source": [
        "X = df.iloc[:,:-1].values\n",
        "y = df.iloc[:,-1].values"
      ]
    },
    {
      "cell_type": "code",
      "execution_count": null,
      "metadata": {
        "id": "yR7D1Cz5Xjqs"
      },
      "outputs": [],
      "source": [
        "X_train,X_test,y_train,y_test = train_test_split(X,y,test_size=0.2,random_state=seed)"
      ]
    },
    {
      "cell_type": "markdown",
      "metadata": {
        "id": "pewJcewwXjqt"
      },
      "source": [
        "## Linear regression"
      ]
    },
    {
      "cell_type": "code",
      "execution_count": null,
      "metadata": {
        "id": "bEIWmMVUXjqz"
      },
      "outputs": [],
      "source": [
        "lr = LinearRegression()\n",
        "lr.fit(X_train,y_train)\n",
        "y_pred = lr.predict(X_test)"
      ]
    },
    {
      "cell_type": "code",
      "execution_count": null,
      "metadata": {
        "id": "ko3fS0C7Xjq4",
        "outputId": "1ad20590-3cd8-4005-90b4-1cf77fd9e2d4"
      },
      "outputs": [
        {
          "data": {
            "text/plain": [
              "30404597.28731416"
            ]
          },
          "execution_count": 554,
          "metadata": {},
          "output_type": "execute_result"
        }
      ],
      "source": [
        "mean_squared_error(y_test,y_pred)"
      ]
    },
    {
      "cell_type": "code",
      "execution_count": null,
      "metadata": {
        "id": "pnfKEJ-nXjq5",
        "outputId": "f8d8d5e4-10b7-4635-ae6f-47eb548f0031"
      },
      "outputs": [
        {
          "data": {
            "text/plain": [
              "182427583.72388497"
            ]
          },
          "execution_count": 555,
          "metadata": {},
          "output_type": "execute_result"
        }
      ],
      "source": [
        "squared_error = mean_squared_error(y_test,y_pred)*y_test.shape[0]\n",
        "squared_error"
      ]
    },
    {
      "cell_type": "code",
      "execution_count": null,
      "metadata": {
        "id": "mza1MfKFXjq6",
        "outputId": "703fd805-55cb-4d74-b8ae-fba36cbf8204"
      },
      "outputs": [
        {
          "data": {
            "text/plain": [
              "array([66029., 91738., 63218., 67938., 98273., 39891.])"
            ]
          },
          "execution_count": 556,
          "metadata": {},
          "output_type": "execute_result"
        }
      ],
      "source": [
        "y_test"
      ]
    },
    {
      "cell_type": "code",
      "execution_count": null,
      "metadata": {
        "id": "JrMRkU2ZXjq7",
        "outputId": "39a9280f-bb27-4b39-90ac-829197d234d4"
      },
      "outputs": [
        {
          "data": {
            "text/plain": [
              "array([74501.41002938, 90279.63442954, 63363.83986457, 72645.14833525,\n",
              "       93064.02697075, 47585.61546441])"
            ]
          },
          "execution_count": 557,
          "metadata": {},
          "output_type": "execute_result"
        }
      ],
      "source": [
        "y_pred"
      ]
    },
    {
      "cell_type": "code",
      "execution_count": null,
      "metadata": {
        "id": "CrLRn8AkXjq8",
        "outputId": "c6fb4654-b7b7-490b-aebe-e9ea6c523c16"
      },
      "outputs": [
        {
          "data": {
            "text/plain": [
              "array([9281.30847068])"
            ]
          },
          "execution_count": 558,
          "metadata": {},
          "output_type": "execute_result"
        }
      ],
      "source": [
        "lr.coef_"
      ]
    },
    {
      "cell_type": "markdown",
      "metadata": {
        "id": "WIgWTAmUXjq9"
      },
      "source": [
        "##Gradient Descent\n",
        "<font size=4></br>Gradient descent is very helpful in finding the minima of the loss function.\n",
        "</br>step 1: take derivative of loss function\n",
        "</br>step 2: start off with random values (generally constant is 0 while a factor is given a value of 1)\n",
        "</br>step 3: now put these values into the loss function's derivative\n",
        "</br>step 4: step size = result from step 3* learning rate(shouldn't be big enough that it jumps over the minima)\n",
        "</br>step 5: new value for coefficients = old value-step size\n",
        "</br>step 6: repeat above steps until step size becomes very small or max iteration is reached\n",
        "</font>"
      ]
    },
    {
      "cell_type": "code",
      "execution_count": null,
      "metadata": {
        "id": "G2Y7NovOXjq-"
      },
      "outputs": [],
      "source": [
        "X = df.iloc[:,:1].values\n",
        "y = df.iloc[:,-1:].values\n",
        "X_train2,X_test2,y_train2,y_test2 = train_test_split(X,y,random_state=seed,test_size=0.2)\n",
        "data = np.concatenate((X_train2,y_train2),axis=1)"
      ]
    },
    {
      "cell_type": "code",
      "execution_count": null,
      "metadata": {
        "id": "6dAr9mF-Xjq_"
      },
      "outputs": [],
      "source": [
        "from sympy import symbols,lambdify\n",
        "x,y,a,b = symbols('x y a b')\n",
        "lsf = (y-(a*x+b))**2\n",
        "lsf_a = lsf.diff(a)\n",
        "lsf_b = lsf.diff(b)\n",
        "lsf_b_f = lambdify((x,y,a,b),lsf_b)\n",
        "lsf_a_f = lambdify((x,y,a,b),lsf_a)\n",
        "def se_calc(f,m,n,data):\n",
        "    return sum([f(i,j,m,n) for i,j in data])"
      ]
    },
    {
      "cell_type": "code",
      "execution_count": null,
      "metadata": {
        "id": "FDj0N4b1XjrA"
      },
      "outputs": [],
      "source": [
        "def gradient_descent(m,n,data,learning_rate,k,min_step):\n",
        "    for i in range(k):\n",
        "        step_size_a = se_calc(lsf_a_f,m,n,data)*learning_rate\n",
        "        step_size_b = se_calc(lsf_b_f,m,n,data)*learning_rate\n",
        "        if abs(step_size_a)<min_step and abs(step_size_b)<min_step:\n",
        "            return m,n\n",
        "        if abs(step_size_b)>=min_step:\n",
        "            n-=step_size_b\n",
        "        if abs(step_size_a)>=min_step:\n",
        "            m-= step_size_a\n",
        "    return m,n"
      ]
    },
    {
      "cell_type": "code",
      "execution_count": null,
      "metadata": {
        "id": "fWm5Diy3XjrB"
      },
      "outputs": [],
      "source": [
        "m,n = gradient_descent(1,0,data,0.00001,20000,0.00005)"
      ]
    },
    {
      "cell_type": "code",
      "execution_count": null,
      "metadata": {
        "id": "RuQOCV55XjrB"
      },
      "outputs": [],
      "source": [
        "test_data = np.concatenate((X_test2,y_test2),axis=1)"
      ]
    },
    {
      "cell_type": "code",
      "execution_count": null,
      "metadata": {
        "id": "mU5NMJHJXjrC",
        "outputId": "e6cd5ff0-9d41-416a-f925-1005cca35d67"
      },
      "outputs": [
        {
          "name": "stdout",
          "output_type": "stream",
          "text": [
            "9671.122623058573 24430.758032391866\n"
          ]
        }
      ],
      "source": [
        "print(m,n)"
      ]
    },
    {
      "cell_type": "code",
      "execution_count": null,
      "metadata": {
        "id": "0NXBerO3XjrD",
        "outputId": "3d09214a-980b-41b1-875b-9ed3efad9893"
      },
      "outputs": [
        {
          "data": {
            "text/plain": [
              "138891793.39133903"
            ]
          },
          "execution_count": 565,
          "metadata": {},
          "output_type": "execute_result"
        }
      ],
      "source": [
        "lsf_f = lambdify((x,y,a,b),lsf)\n",
        "se_calc(lsf_f,m,n,test_data)"
      ]
    },
    {
      "cell_type": "code",
      "execution_count": null,
      "metadata": {
        "id": "4Yo_f2axXjrE"
      },
      "outputs": [],
      "source": [
        "y_pred2 = list()\n",
        "for i in range(X_test.shape[0]):\n",
        "    y_pred2.append(m*X_test[i][0]+n)\n",
        "y_pred2 = np.array(y_pred2)"
      ]
    },
    {
      "cell_type": "code",
      "execution_count": null,
      "metadata": {
        "id": "nSgkHO71XjrE",
        "outputId": "4fd9da8d-2163-4e88-a0ff-423488b87e81"
      },
      "outputs": [
        {
          "data": {
            "text/plain": [
              "138891793.39133903"
            ]
          },
          "execution_count": 567,
          "metadata": {},
          "output_type": "execute_result"
        }
      ],
      "source": [
        "mean_squared_error(y_test,y_pred2)*y_pred2.shape[0]"
      ]
    },
    {
      "cell_type": "code",
      "execution_count": null,
      "metadata": {
        "id": "1WABetZwXjrG"
      },
      "outputs": [],
      "source": [
        "t = np.concatenate((np.array(list(map(lambda x: [x],list(y_pred)))),y_test2,(np.array(list(map(lambda x: [x],list(y_pred2)))))),axis=1)"
      ]
    },
    {
      "cell_type": "code",
      "execution_count": null,
      "metadata": {
        "id": "xJ_rmJHiXjrH",
        "outputId": "6db3511c-3fa6-4347-d770-00da79e7db2a"
      },
      "outputs": [
        {
          "data": {
            "text/plain": [
              "array([[74501.41002938, 66029.        , 73753.48340999],\n",
              "       [90279.63442954, 91738.        , 90194.39186919],\n",
              "       [63363.83986457, 63218.        , 62148.13626232],\n",
              "       [72645.14833525, 67938.        , 71819.25888538],\n",
              "       [93064.02697075, 98273.        , 93095.72865611],\n",
              "       [47585.61546441, 39891.        , 45707.22780312]])"
            ]
          },
          "execution_count": 569,
          "metadata": {},
          "output_type": "execute_result"
        }
      ],
      "source": [
        "t"
      ]
    },
    {
      "cell_type": "code",
      "execution_count": null,
      "metadata": {
        "id": "ZQWmP2WwXjrH",
        "outputId": "46832d70-5790-4ccc-d238-a2d69a2bc795"
      },
      "outputs": [
        {
          "name": "stdout",
          "output_type": "stream",
          "text": [
            "gradient descent: 138891793.39133903\n",
            "linear rigression: 182427583.72388497\n",
            "difference(reg-grad):43535790.332545936\n"
          ]
        }
      ],
      "source": [
        "gde = mean_squared_error(y_test,y_pred2)*y_pred2.shape[0]\n",
        "lre = mean_squared_error(y_test,y_pred)*y_pred.shape[0]\n",
        "print(f'gradient descent: {gde}\\nlinear rigression: {lre}\\ndifference(reg-grad):{lre-gde}')"
      ]
    }
  ],
  "metadata": {
    "interpreter": {
      "hash": "be73203017e7287800b200c840e328851af179b0edd1b8f5e6f11e3a711ee24a"
    },
    "kernelspec": {
      "display_name": "Python 3.9.7 ('base')",
      "language": "python",
      "name": "python3"
    },
    "language_info": {
      "codemirror_mode": {
        "name": "ipython",
        "version": 3
      },
      "file_extension": ".py",
      "mimetype": "text/x-python",
      "name": "python",
      "nbconvert_exporter": "python",
      "pygments_lexer": "ipython3",
      "version": "3.9.7"
    },
    "orig_nbformat": 4,
    "colab": {
      "name": "gradient_descent.ipynb",
      "provenance": []
    }
  },
  "nbformat": 4,
  "nbformat_minor": 0
}