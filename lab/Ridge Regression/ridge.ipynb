{
  "cells": [
    {
      "cell_type": "markdown",
      "source": [
        "# Q6) Take a dataset where features do not have a linear relationship. Implement Linear Regression on it. Also, implement Ridge Regression on it and compare the results. "
      ],
      "metadata": {
        "id": "cnUa2Ehwcj-z"
      }
    },
    {
      "cell_type": "code",
      "execution_count": null,
      "metadata": {
        "id": "B0VvOzsWccKe"
      },
      "outputs": [],
      "source": [
        "from sklearn.linear_model import Ridge\n",
        "from sklearn.linear_model import LinearRegression\n",
        "from sklearn.model_selection import train_test_split\n",
        "import pandas as pd\n",
        "import numpy as np\n",
        "from sklearn.metrics import mean_squared_error\n",
        "from sklearn.model_selection import KFold\n",
        "from sklearn.preprocessing import StandardScaler"
      ]
    },
    {
      "cell_type": "code",
      "execution_count": null,
      "metadata": {
        "id": "72yScssvccKn"
      },
      "outputs": [],
      "source": [
        "df = pd.read_csv('train.csv')"
      ]
    },
    {
      "cell_type": "code",
      "execution_count": null,
      "metadata": {
        "id": "GmablwyNccKo",
        "outputId": "02f2df62-95b1-4d2f-f254-7b6317b3b68f"
      },
      "outputs": [
        {
          "data": {
            "text/html": [
              "<div>\n",
              "<style scoped>\n",
              "    .dataframe tbody tr th:only-of-type {\n",
              "        vertical-align: middle;\n",
              "    }\n",
              "\n",
              "    .dataframe tbody tr th {\n",
              "        vertical-align: top;\n",
              "    }\n",
              "\n",
              "    .dataframe thead th {\n",
              "        text-align: right;\n",
              "    }\n",
              "</style>\n",
              "<table border=\"1\" class=\"dataframe\">\n",
              "  <thead>\n",
              "    <tr style=\"text-align: right;\">\n",
              "      <th></th>\n",
              "      <th>Id</th>\n",
              "      <th>Serial Number</th>\n",
              "      <th>total_net_assets</th>\n",
              "      <th>net_annual_expenses_ratio</th>\n",
              "      <th>morningstar_rating</th>\n",
              "      <th>portfolio_cash</th>\n",
              "      <th>portfolio_stocks</th>\n",
              "      <th>portfolio_bonds</th>\n",
              "      <th>portfolio_others</th>\n",
              "      <th>portfolio_preferred</th>\n",
              "      <th>...</th>\n",
              "      <th>category_102</th>\n",
              "      <th>category_103</th>\n",
              "      <th>category_104</th>\n",
              "      <th>category_105</th>\n",
              "      <th>category_106</th>\n",
              "      <th>category_107</th>\n",
              "      <th>investment_0</th>\n",
              "      <th>investment_1</th>\n",
              "      <th>investment_2</th>\n",
              "      <th>bonds_aaa</th>\n",
              "    </tr>\n",
              "  </thead>\n",
              "  <tbody>\n",
              "    <tr>\n",
              "      <th>0</th>\n",
              "      <td>3768</td>\n",
              "      <td>8372</td>\n",
              "      <td>211000</td>\n",
              "      <td>1.90</td>\n",
              "      <td>3</td>\n",
              "      <td>0.95</td>\n",
              "      <td>99.05</td>\n",
              "      <td>0.00</td>\n",
              "      <td>0.00</td>\n",
              "      <td>0.00</td>\n",
              "      <td>...</td>\n",
              "      <td>0.0</td>\n",
              "      <td>0.0</td>\n",
              "      <td>0.0</td>\n",
              "      <td>0.0</td>\n",
              "      <td>0.0</td>\n",
              "      <td>0.0</td>\n",
              "      <td>0.0</td>\n",
              "      <td>1.0</td>\n",
              "      <td>0.0</td>\n",
              "      <td>0.00</td>\n",
              "    </tr>\n",
              "    <tr>\n",
              "      <th>1</th>\n",
              "      <td>6244</td>\n",
              "      <td>5022</td>\n",
              "      <td>98930000</td>\n",
              "      <td>1.57</td>\n",
              "      <td>2</td>\n",
              "      <td>0.00</td>\n",
              "      <td>0.00</td>\n",
              "      <td>100.00</td>\n",
              "      <td>0.00</td>\n",
              "      <td>0.00</td>\n",
              "      <td>...</td>\n",
              "      <td>0.0</td>\n",
              "      <td>0.0</td>\n",
              "      <td>0.0</td>\n",
              "      <td>0.0</td>\n",
              "      <td>0.0</td>\n",
              "      <td>0.0</td>\n",
              "      <td>1.0</td>\n",
              "      <td>0.0</td>\n",
              "      <td>0.0</td>\n",
              "      <td>0.65</td>\n",
              "    </tr>\n",
              "    <tr>\n",
              "      <th>2</th>\n",
              "      <td>2230</td>\n",
              "      <td>3668</td>\n",
              "      <td>440000000</td>\n",
              "      <td>0.53</td>\n",
              "      <td>4</td>\n",
              "      <td>1.71</td>\n",
              "      <td>0.00</td>\n",
              "      <td>98.29</td>\n",
              "      <td>0.00</td>\n",
              "      <td>0.00</td>\n",
              "      <td>...</td>\n",
              "      <td>0.0</td>\n",
              "      <td>0.0</td>\n",
              "      <td>0.0</td>\n",
              "      <td>0.0</td>\n",
              "      <td>0.0</td>\n",
              "      <td>0.0</td>\n",
              "      <td>1.0</td>\n",
              "      <td>0.0</td>\n",
              "      <td>0.0</td>\n",
              "      <td>93.20</td>\n",
              "    </tr>\n",
              "    <tr>\n",
              "      <th>3</th>\n",
              "      <td>7518</td>\n",
              "      <td>8745</td>\n",
              "      <td>56050000</td>\n",
              "      <td>0.93</td>\n",
              "      <td>3</td>\n",
              "      <td>2.64</td>\n",
              "      <td>31.29</td>\n",
              "      <td>57.06</td>\n",
              "      <td>0.80</td>\n",
              "      <td>7.62</td>\n",
              "      <td>...</td>\n",
              "      <td>0.0</td>\n",
              "      <td>0.0</td>\n",
              "      <td>0.0</td>\n",
              "      <td>0.0</td>\n",
              "      <td>0.0</td>\n",
              "      <td>0.0</td>\n",
              "      <td>1.0</td>\n",
              "      <td>0.0</td>\n",
              "      <td>0.0</td>\n",
              "      <td>2.64</td>\n",
              "    </tr>\n",
              "    <tr>\n",
              "      <th>4</th>\n",
              "      <td>8037</td>\n",
              "      <td>17449</td>\n",
              "      <td>173040000</td>\n",
              "      <td>2.26</td>\n",
              "      <td>2</td>\n",
              "      <td>5.24</td>\n",
              "      <td>94.75</td>\n",
              "      <td>0.00</td>\n",
              "      <td>0.01</td>\n",
              "      <td>0.00</td>\n",
              "      <td>...</td>\n",
              "      <td>0.0</td>\n",
              "      <td>0.0</td>\n",
              "      <td>0.0</td>\n",
              "      <td>0.0</td>\n",
              "      <td>0.0</td>\n",
              "      <td>0.0</td>\n",
              "      <td>1.0</td>\n",
              "      <td>0.0</td>\n",
              "      <td>0.0</td>\n",
              "      <td>0.00</td>\n",
              "    </tr>\n",
              "  </tbody>\n",
              "</table>\n",
              "<p>5 rows × 154 columns</p>\n",
              "</div>"
            ],
            "text/plain": [
              "     Id  Serial Number  total_net_assets  net_annual_expenses_ratio  \\\n",
              "0  3768           8372            211000                       1.90   \n",
              "1  6244           5022          98930000                       1.57   \n",
              "2  2230           3668         440000000                       0.53   \n",
              "3  7518           8745          56050000                       0.93   \n",
              "4  8037          17449         173040000                       2.26   \n",
              "\n",
              "   morningstar_rating  portfolio_cash  portfolio_stocks  portfolio_bonds  \\\n",
              "0                   3            0.95             99.05             0.00   \n",
              "1                   2            0.00              0.00           100.00   \n",
              "2                   4            1.71              0.00            98.29   \n",
              "3                   3            2.64             31.29            57.06   \n",
              "4                   2            5.24             94.75             0.00   \n",
              "\n",
              "   portfolio_others  portfolio_preferred  ...  category_102  category_103  \\\n",
              "0              0.00                 0.00  ...           0.0           0.0   \n",
              "1              0.00                 0.00  ...           0.0           0.0   \n",
              "2              0.00                 0.00  ...           0.0           0.0   \n",
              "3              0.80                 7.62  ...           0.0           0.0   \n",
              "4              0.01                 0.00  ...           0.0           0.0   \n",
              "\n",
              "   category_104  category_105  category_106  category_107  investment_0  \\\n",
              "0           0.0           0.0           0.0           0.0           0.0   \n",
              "1           0.0           0.0           0.0           0.0           1.0   \n",
              "2           0.0           0.0           0.0           0.0           1.0   \n",
              "3           0.0           0.0           0.0           0.0           1.0   \n",
              "4           0.0           0.0           0.0           0.0           1.0   \n",
              "\n",
              "   investment_1  investment_2  bonds_aaa  \n",
              "0           1.0           0.0       0.00  \n",
              "1           0.0           0.0       0.65  \n",
              "2           0.0           0.0      93.20  \n",
              "3           0.0           0.0       2.64  \n",
              "4           0.0           0.0       0.00  \n",
              "\n",
              "[5 rows x 154 columns]"
            ]
          },
          "execution_count": 152,
          "metadata": {},
          "output_type": "execute_result"
        }
      ],
      "source": [
        "df.head()"
      ]
    },
    {
      "cell_type": "code",
      "execution_count": null,
      "metadata": {
        "id": "AgOoFP-zccKr",
        "outputId": "35b8a5b0-4855-4506-f7ce-c99b6429f257"
      },
      "outputs": [
        {
          "data": {
            "text/plain": [
              "0"
            ]
          },
          "execution_count": 153,
          "metadata": {},
          "output_type": "execute_result"
        }
      ],
      "source": [
        "df.isna().sum().sum()"
      ]
    },
    {
      "cell_type": "code",
      "execution_count": null,
      "metadata": {
        "id": "3nXX9GOBccKs"
      },
      "outputs": [],
      "source": [
        "df.drop(['Id','Serial Number'],axis=1,inplace=True)"
      ]
    },
    {
      "cell_type": "code",
      "execution_count": null,
      "metadata": {
        "id": "kB4yKWaYccKt"
      },
      "outputs": [],
      "source": [
        "df.dropna(inplace=True)"
      ]
    },
    {
      "cell_type": "code",
      "execution_count": null,
      "metadata": {
        "id": "2uNAurNFccKv"
      },
      "outputs": [],
      "source": [
        "X = df.iloc[:,:-1].values\n",
        "y = df.iloc[:,-1].values"
      ]
    },
    {
      "cell_type": "code",
      "execution_count": null,
      "metadata": {
        "id": "WZxQbtYyccKw",
        "outputId": "5525989b-03dd-4b25-9d25-5eff47746d13"
      },
      "outputs": [
        {
          "data": {
            "text/plain": [
              "249.90546609792645"
            ]
          },
          "execution_count": 167,
          "metadata": {},
          "output_type": "execute_result"
        }
      ],
      "source": [
        "kf = KFold(n_splits=5,shuffle=True,random_state=4343)\n",
        "t=0\n",
        "for i,j in kf.split(X,y):\n",
        "    y_train,y_test = y[i],y[j]\n",
        "    X_test = X[j]\n",
        "    X_train = X[i]\n",
        "    lr = LinearRegression()\n",
        "    lr.fit(X_train,y_train)\n",
        "    y_pred = lr.predict(X_test)\n",
        "    t += mean_squared_error(y_test,y_pred)\n",
        "t = t/5\n",
        "t"
      ]
    },
    {
      "cell_type": "code",
      "execution_count": null,
      "metadata": {
        "id": "KAWlYiwAccKy",
        "outputId": "0ef6eaeb-9a99-48f5-969e-4988141154b5"
      },
      "outputs": [
        {
          "data": {
            "text/plain": [
              "301.5696577207711"
            ]
          },
          "execution_count": 174,
          "metadata": {},
          "output_type": "execute_result"
        }
      ],
      "source": [
        "kf = KFold(n_splits=5,shuffle=True,random_state=2)\n",
        "t=0\n",
        "for i,j in kf.split(X,y):\n",
        "    y_train,y_test = y[i],y[j]\n",
        "    X_test = X[j]\n",
        "    X_train = X[i]\n",
        "    rr = Ridge(alpha=1)\n",
        "    rr.fit(X_train,y_train)\n",
        "    y_pred2 = rr.predict(X_test)\n",
        "    t += mean_squared_error(y_test,y_pred2)\n",
        "t = t/5\n",
        "t"
      ]
    },
    {
      "cell_type": "code",
      "execution_count": null,
      "metadata": {
        "id": "2dbAdGChccK0"
      },
      "outputs": [],
      "source": [
        ""
      ]
    }
  ],
  "metadata": {
    "interpreter": {
      "hash": "be73203017e7287800b200c840e328851af179b0edd1b8f5e6f11e3a711ee24a"
    },
    "kernelspec": {
      "display_name": "Python 3.9.7 ('base')",
      "language": "python",
      "name": "python3"
    },
    "language_info": {
      "codemirror_mode": {
        "name": "ipython",
        "version": 3
      },
      "file_extension": ".py",
      "mimetype": "text/x-python",
      "name": "python",
      "nbconvert_exporter": "python",
      "pygments_lexer": "ipython3",
      "version": "3.9.7"
    },
    "orig_nbformat": 4,
    "colab": {
      "name": "ridge.ipynb",
      "provenance": []
    }
  },
  "nbformat": 4,
  "nbformat_minor": 0
}