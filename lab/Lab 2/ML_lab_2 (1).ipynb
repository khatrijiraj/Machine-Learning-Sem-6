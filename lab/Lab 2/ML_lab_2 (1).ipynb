{
  "nbformat": 4,
  "nbformat_minor": 0,
  "metadata": {
    "colab": {
      "name": "ML_lab_2.ipynb",
      "provenance": []
    },
    "kernelspec": {
      "name": "python3",
      "display_name": "Python 3"
    },
    "language_info": {
      "name": "python"
    }
  },
  "cells": [
    {
      "cell_type": "markdown",
      "source": [
        "# Q2) Download any Dataset from ML UCI repository and apply all Preprocessing Tools for:\n",
        "1)Handling Missing Data\n",
        "\n",
        "2)Encoding Independent and Dependent Variables\n",
        "\n",
        "3)Splitting the Dataset into the Training and Test Set\n",
        "\n",
        "4)Feature Scaling "
      ],
      "metadata": {
        "id": "KaOYsIJsRXoy"
      }
    },
    {
      "cell_type": "code",
      "execution_count": null,
      "metadata": {
        "id": "PMmmoFnVl-4m"
      },
      "outputs": [],
      "source": [
        "import numpy as np\n",
        "import matplotlib.pyplot as plt\n",
        "import pandas as pd"
      ]
    },
    {
      "cell_type": "code",
      "source": [
        "df = pd.read_csv('/content/car.data')\n",
        "df"
      ],
      "metadata": {
        "colab": {
          "base_uri": "https://localhost:8080/",
          "height": 424
        },
        "id": "4L1MrAJvmNos",
        "outputId": "d54b4f4d-847d-4f24-be5c-001134c9fd06"
      },
      "execution_count": null,
      "outputs": [
        {
          "output_type": "execute_result",
          "data": {
            "text/html": [
              "\n",
              "  <div id=\"df-93a44651-3983-4cac-9525-73d908283eae\">\n",
              "    <div class=\"colab-df-container\">\n",
              "      <div>\n",
              "<style scoped>\n",
              "    .dataframe tbody tr th:only-of-type {\n",
              "        vertical-align: middle;\n",
              "    }\n",
              "\n",
              "    .dataframe tbody tr th {\n",
              "        vertical-align: top;\n",
              "    }\n",
              "\n",
              "    .dataframe thead th {\n",
              "        text-align: right;\n",
              "    }\n",
              "</style>\n",
              "<table border=\"1\" class=\"dataframe\">\n",
              "  <thead>\n",
              "    <tr style=\"text-align: right;\">\n",
              "      <th></th>\n",
              "      <th>buying</th>\n",
              "      <th>maint</th>\n",
              "      <th>doors</th>\n",
              "      <th>persons</th>\n",
              "      <th>lug_boot</th>\n",
              "      <th>safety</th>\n",
              "      <th>Class</th>\n",
              "    </tr>\n",
              "  </thead>\n",
              "  <tbody>\n",
              "    <tr>\n",
              "      <th>0</th>\n",
              "      <td>vhigh</td>\n",
              "      <td>vhigh</td>\n",
              "      <td>2</td>\n",
              "      <td>2</td>\n",
              "      <td>small</td>\n",
              "      <td>low</td>\n",
              "      <td>unacc</td>\n",
              "    </tr>\n",
              "    <tr>\n",
              "      <th>1</th>\n",
              "      <td>vhigh</td>\n",
              "      <td>vhigh</td>\n",
              "      <td>2</td>\n",
              "      <td>2</td>\n",
              "      <td>small</td>\n",
              "      <td>med</td>\n",
              "      <td>unacc</td>\n",
              "    </tr>\n",
              "    <tr>\n",
              "      <th>2</th>\n",
              "      <td>vhigh</td>\n",
              "      <td>vhigh</td>\n",
              "      <td>2</td>\n",
              "      <td>2</td>\n",
              "      <td>small</td>\n",
              "      <td>high</td>\n",
              "      <td>unacc</td>\n",
              "    </tr>\n",
              "    <tr>\n",
              "      <th>3</th>\n",
              "      <td>vhigh</td>\n",
              "      <td>vhigh</td>\n",
              "      <td>2</td>\n",
              "      <td>2</td>\n",
              "      <td>med</td>\n",
              "      <td>low</td>\n",
              "      <td>unacc</td>\n",
              "    </tr>\n",
              "    <tr>\n",
              "      <th>4</th>\n",
              "      <td>vhigh</td>\n",
              "      <td>vhigh</td>\n",
              "      <td>2</td>\n",
              "      <td>2</td>\n",
              "      <td>med</td>\n",
              "      <td>med</td>\n",
              "      <td>unacc</td>\n",
              "    </tr>\n",
              "    <tr>\n",
              "      <th>...</th>\n",
              "      <td>...</td>\n",
              "      <td>...</td>\n",
              "      <td>...</td>\n",
              "      <td>...</td>\n",
              "      <td>...</td>\n",
              "      <td>...</td>\n",
              "      <td>...</td>\n",
              "    </tr>\n",
              "    <tr>\n",
              "      <th>1723</th>\n",
              "      <td>low</td>\n",
              "      <td>low</td>\n",
              "      <td>5</td>\n",
              "      <td>5</td>\n",
              "      <td>med</td>\n",
              "      <td>med</td>\n",
              "      <td>good</td>\n",
              "    </tr>\n",
              "    <tr>\n",
              "      <th>1724</th>\n",
              "      <td>low</td>\n",
              "      <td>low</td>\n",
              "      <td>5</td>\n",
              "      <td>5</td>\n",
              "      <td>med</td>\n",
              "      <td>high</td>\n",
              "      <td>vgood</td>\n",
              "    </tr>\n",
              "    <tr>\n",
              "      <th>1725</th>\n",
              "      <td>low</td>\n",
              "      <td>low</td>\n",
              "      <td>5</td>\n",
              "      <td>5</td>\n",
              "      <td>big</td>\n",
              "      <td>low</td>\n",
              "      <td>unacc</td>\n",
              "    </tr>\n",
              "    <tr>\n",
              "      <th>1726</th>\n",
              "      <td>low</td>\n",
              "      <td>low</td>\n",
              "      <td>5</td>\n",
              "      <td>5</td>\n",
              "      <td>big</td>\n",
              "      <td>med</td>\n",
              "      <td>good</td>\n",
              "    </tr>\n",
              "    <tr>\n",
              "      <th>1727</th>\n",
              "      <td>low</td>\n",
              "      <td>low</td>\n",
              "      <td>5</td>\n",
              "      <td>5</td>\n",
              "      <td>big</td>\n",
              "      <td>high</td>\n",
              "      <td>vgood</td>\n",
              "    </tr>\n",
              "  </tbody>\n",
              "</table>\n",
              "<p>1728 rows × 7 columns</p>\n",
              "</div>\n",
              "      <button class=\"colab-df-convert\" onclick=\"convertToInteractive('df-93a44651-3983-4cac-9525-73d908283eae')\"\n",
              "              title=\"Convert this dataframe to an interactive table.\"\n",
              "              style=\"display:none;\">\n",
              "        \n",
              "  <svg xmlns=\"http://www.w3.org/2000/svg\" height=\"24px\"viewBox=\"0 0 24 24\"\n",
              "       width=\"24px\">\n",
              "    <path d=\"M0 0h24v24H0V0z\" fill=\"none\"/>\n",
              "    <path d=\"M18.56 5.44l.94 2.06.94-2.06 2.06-.94-2.06-.94-.94-2.06-.94 2.06-2.06.94zm-11 1L8.5 8.5l.94-2.06 2.06-.94-2.06-.94L8.5 2.5l-.94 2.06-2.06.94zm10 10l.94 2.06.94-2.06 2.06-.94-2.06-.94-.94-2.06-.94 2.06-2.06.94z\"/><path d=\"M17.41 7.96l-1.37-1.37c-.4-.4-.92-.59-1.43-.59-.52 0-1.04.2-1.43.59L10.3 9.45l-7.72 7.72c-.78.78-.78 2.05 0 2.83L4 21.41c.39.39.9.59 1.41.59.51 0 1.02-.2 1.41-.59l7.78-7.78 2.81-2.81c.8-.78.8-2.07 0-2.86zM5.41 20L4 18.59l7.72-7.72 1.47 1.35L5.41 20z\"/>\n",
              "  </svg>\n",
              "      </button>\n",
              "      \n",
              "  <style>\n",
              "    .colab-df-container {\n",
              "      display:flex;\n",
              "      flex-wrap:wrap;\n",
              "      gap: 12px;\n",
              "    }\n",
              "\n",
              "    .colab-df-convert {\n",
              "      background-color: #E8F0FE;\n",
              "      border: none;\n",
              "      border-radius: 50%;\n",
              "      cursor: pointer;\n",
              "      display: none;\n",
              "      fill: #1967D2;\n",
              "      height: 32px;\n",
              "      padding: 0 0 0 0;\n",
              "      width: 32px;\n",
              "    }\n",
              "\n",
              "    .colab-df-convert:hover {\n",
              "      background-color: #E2EBFA;\n",
              "      box-shadow: 0px 1px 2px rgba(60, 64, 67, 0.3), 0px 1px 3px 1px rgba(60, 64, 67, 0.15);\n",
              "      fill: #174EA6;\n",
              "    }\n",
              "\n",
              "    [theme=dark] .colab-df-convert {\n",
              "      background-color: #3B4455;\n",
              "      fill: #D2E3FC;\n",
              "    }\n",
              "\n",
              "    [theme=dark] .colab-df-convert:hover {\n",
              "      background-color: #434B5C;\n",
              "      box-shadow: 0px 1px 3px 1px rgba(0, 0, 0, 0.15);\n",
              "      filter: drop-shadow(0px 1px 2px rgba(0, 0, 0, 0.3));\n",
              "      fill: #FFFFFF;\n",
              "    }\n",
              "  </style>\n",
              "\n",
              "      <script>\n",
              "        const buttonEl =\n",
              "          document.querySelector('#df-93a44651-3983-4cac-9525-73d908283eae button.colab-df-convert');\n",
              "        buttonEl.style.display =\n",
              "          google.colab.kernel.accessAllowed ? 'block' : 'none';\n",
              "\n",
              "        async function convertToInteractive(key) {\n",
              "          const element = document.querySelector('#df-93a44651-3983-4cac-9525-73d908283eae');\n",
              "          const dataTable =\n",
              "            await google.colab.kernel.invokeFunction('convertToInteractive',\n",
              "                                                     [key], {});\n",
              "          if (!dataTable) return;\n",
              "\n",
              "          const docLinkHtml = 'Like what you see? Visit the ' +\n",
              "            '<a target=\"_blank\" href=https://colab.research.google.com/notebooks/data_table.ipynb>data table notebook</a>'\n",
              "            + ' to learn more about interactive tables.';\n",
              "          element.innerHTML = '';\n",
              "          dataTable['output_type'] = 'display_data';\n",
              "          await google.colab.output.renderOutput(dataTable, element);\n",
              "          const docLink = document.createElement('div');\n",
              "          docLink.innerHTML = docLinkHtml;\n",
              "          element.appendChild(docLink);\n",
              "        }\n",
              "      </script>\n",
              "    </div>\n",
              "  </div>\n",
              "  "
            ],
            "text/plain": [
              "     buying  maint  doors  persons lug_boot safety  Class\n",
              "0     vhigh  vhigh      2        2    small    low  unacc\n",
              "1     vhigh  vhigh      2        2    small    med  unacc\n",
              "2     vhigh  vhigh      2        2    small   high  unacc\n",
              "3     vhigh  vhigh      2        2      med    low  unacc\n",
              "4     vhigh  vhigh      2        2      med    med  unacc\n",
              "...     ...    ...    ...      ...      ...    ...    ...\n",
              "1723    low    low      5        5      med    med   good\n",
              "1724    low    low      5        5      med   high  vgood\n",
              "1725    low    low      5        5      big    low  unacc\n",
              "1726    low    low      5        5      big    med   good\n",
              "1727    low    low      5        5      big   high  vgood\n",
              "\n",
              "[1728 rows x 7 columns]"
            ]
          },
          "metadata": {},
          "execution_count": 55
        }
      ]
    },
    {
      "cell_type": "code",
      "source": [
        "x= df.iloc[:,-1].values #dependent\n",
        "x"
      ],
      "metadata": {
        "colab": {
          "base_uri": "https://localhost:8080/"
        },
        "id": "n78CUMVQns5M",
        "outputId": "8bf42e03-ced9-472b-b00e-de4784d4d1b7"
      },
      "execution_count": null,
      "outputs": [
        {
          "output_type": "execute_result",
          "data": {
            "text/plain": [
              "array(['unacc', 'unacc', 'unacc', ..., 'unacc', 'good', 'vgood'],\n",
              "      dtype=object)"
            ]
          },
          "metadata": {},
          "execution_count": 56
        }
      ]
    },
    {
      "cell_type": "code",
      "source": [
        "y= df.iloc[:,:-1].values #indepent\n",
        "y"
      ],
      "metadata": {
        "colab": {
          "base_uri": "https://localhost:8080/"
        },
        "id": "3NQXXCfBn572",
        "outputId": "22f0887a-9d9f-4239-bbc4-780ddf7110ac"
      },
      "execution_count": null,
      "outputs": [
        {
          "output_type": "execute_result",
          "data": {
            "text/plain": [
              "array([['vhigh', 'vhigh', 2, 2, 'small', 'low'],\n",
              "       ['vhigh', 'vhigh', 2, 2, 'small', 'med'],\n",
              "       ['vhigh', 'vhigh', 2, 2, 'small', 'high'],\n",
              "       ...,\n",
              "       ['low', 'low', 5, 5, 'big', 'low'],\n",
              "       ['low', 'low', 5, 5, 'big', 'med'],\n",
              "       ['low', 'low', 5, 5, 'big', 'high']], dtype=object)"
            ]
          },
          "metadata": {},
          "execution_count": 57
        }
      ]
    },
    {
      "cell_type": "markdown",
      "source": [
        "## Checking Nan values"
      ],
      "metadata": {
        "id": "1Qvh80WdoViw"
      }
    },
    {
      "cell_type": "code",
      "source": [
        "df.isna().sum()   #no null values"
      ],
      "metadata": {
        "colab": {
          "base_uri": "https://localhost:8080/"
        },
        "id": "o-39lBuCoTfy",
        "outputId": "dff22aad-ef2d-44cf-e686-f1330c757682"
      },
      "execution_count": null,
      "outputs": [
        {
          "output_type": "execute_result",
          "data": {
            "text/plain": [
              "buying      0\n",
              "maint       0\n",
              "doors       0\n",
              "persons     0\n",
              "lug_boot    0\n",
              "safety      0\n",
              "Class       0\n",
              "dtype: int64"
            ]
          },
          "metadata": {},
          "execution_count": 58
        }
      ]
    },
    {
      "cell_type": "code",
      "source": [
        "#df['Class'].fillna(value=df['Class'].mean(), inplace=True)"
      ],
      "metadata": {
        "id": "ZE9OPD_6R-Eh"
      },
      "execution_count": null,
      "outputs": []
    },
    {
      "cell_type": "markdown",
      "source": [
        "## Encoding categorical data"
      ],
      "metadata": {
        "id": "c98c3wBEo4wi"
      }
    },
    {
      "cell_type": "code",
      "source": [
        "from sklearn.compose import ColumnTransformer\n",
        "from sklearn.preprocessing import OneHotEncoder"
      ],
      "metadata": {
        "id": "hePWuQFfo4VW"
      },
      "execution_count": null,
      "outputs": []
    },
    {
      "cell_type": "code",
      "source": [
        "ct = ColumnTransformer(transformers = [('encoder', OneHotEncoder(), [0,1,4,5])], remainder = 'passthrough') #for independent"
      ],
      "metadata": {
        "id": "6wrxfJvRpabg"
      },
      "execution_count": null,
      "outputs": []
    },
    {
      "cell_type": "code",
      "source": [
        "y = np.array(ct.fit_transform(y))\n",
        "y"
      ],
      "metadata": {
        "colab": {
          "base_uri": "https://localhost:8080/"
        },
        "id": "LMid4BFbr0ms",
        "outputId": "40a86cd5-f917-42d8-f43d-5aab65668992"
      },
      "execution_count": null,
      "outputs": [
        {
          "output_type": "execute_result",
          "data": {
            "text/plain": [
              "array([[0.0, 0.0, 0.0, ..., 0.0, 2, 2],\n",
              "       [0.0, 0.0, 0.0, ..., 1.0, 2, 2],\n",
              "       [0.0, 0.0, 0.0, ..., 0.0, 2, 2],\n",
              "       ...,\n",
              "       [0.0, 1.0, 0.0, ..., 0.0, 5, 5],\n",
              "       [0.0, 1.0, 0.0, ..., 1.0, 5, 5],\n",
              "       [0.0, 1.0, 0.0, ..., 0.0, 5, 5]], dtype=object)"
            ]
          },
          "metadata": {},
          "execution_count": 62
        }
      ]
    },
    {
      "cell_type": "code",
      "source": [
        "from sklearn.preprocessing import LabelEncoder\n",
        "l = LabelEncoder()\n",
        "x = l.fit_transform(x)\n",
        "x"
      ],
      "metadata": {
        "colab": {
          "base_uri": "https://localhost:8080/"
        },
        "id": "AsNvqKjUtKHW",
        "outputId": "f9f91e0a-9775-4247-9e3c-167e2ddb9a4b"
      },
      "execution_count": null,
      "outputs": [
        {
          "output_type": "execute_result",
          "data": {
            "text/plain": [
              "array([2, 2, 2, ..., 2, 1, 3])"
            ]
          },
          "metadata": {},
          "execution_count": 63
        }
      ]
    },
    {
      "cell_type": "markdown",
      "source": [
        "## Splitting data"
      ],
      "metadata": {
        "id": "aIHjVfJ0tb-J"
      }
    },
    {
      "cell_type": "code",
      "source": [
        "from sklearn.model_selection import train_test_split\n",
        "X_train, X_test, Y_train, Y_test = train_test_split(x, y, test_size = 0.2, random_state = 1)"
      ],
      "metadata": {
        "id": "uiYt3BpHta-p"
      },
      "execution_count": null,
      "outputs": []
    },
    {
      "cell_type": "code",
      "source": [
        "print(X_test)"
      ],
      "metadata": {
        "colab": {
          "base_uri": "https://localhost:8080/"
        },
        "id": "UX0t98dPtti_",
        "outputId": "f6854c95-8ed5-4373-8ba7-a5f9ac391e9e"
      },
      "execution_count": null,
      "outputs": [
        {
          "output_type": "stream",
          "name": "stdout",
          "text": [
            "[2 0 2 2 2 0 2 2 0 2 0 2 2 2 2 2 2 0 2 2 2 2 2 2 2 2 2 2 2 0 3 2 2 2 2 2 2\n",
            " 2 0 2 2 0 2 2 2 2 2 2 3 2 2 2 2 2 2 2 2 2 2 2 2 3 2 1 2 2 2 2 0 2 2 2 2 2\n",
            " 1 2 2 0 0 0 0 0 1 2 2 3 0 2 0 2 0 2 2 2 2 0 2 2 2 2 0 2 2 2 2 2 2 2 2 2 2\n",
            " 0 2 2 0 0 2 1 2 2 2 2 2 2 3 2 2 2 2 2 2 2 2 2 3 2 2 3 2 2 2 2 0 0 2 0 2 0\n",
            " 2 2 2 2 2 2 1 0 0 2 2 2 2 2 0 2 2 2 2 2 1 2 2 2 2 2 2 2 2 2 2 2 2 2 2 2 2\n",
            " 1 2 2 2 2 0 2 2 3 2 2 0 2 2 2 2 2 0 2 2 2 2 2 2 3 0 0 2 0 2 3 2 2 2 2 2 2\n",
            " 2 0 2 2 2 2 2 2 0 2 2 2 1 0 2 2 0 2 2 2 0 1 2 0 2 0 2 2 2 2 1 2 2 0 0 2 2\n",
            " 2 2 2 2 0 2 2 2 1 2 2 2 0 1 2 2 2 0 2 2 1 2 2 2 2 2 2 2 2 0 2 2 2 2 2 2 2\n",
            " 2 3 2 2 2 2 2 2 2 0 0 2 2 2 2 2 0 2 2 2 2 2 2 2 2 2 3 0 0 2 0 0 2 2 0 1 2\n",
            " 2 2 2 0 2 2 0 0 2 3 2 2 2]\n"
          ]
        }
      ]
    },
    {
      "cell_type": "code",
      "source": [
        "print(X_train)"
      ],
      "metadata": {
        "colab": {
          "base_uri": "https://localhost:8080/"
        },
        "id": "9VGvPSlvt1um",
        "outputId": "30331140-0e9e-452e-e6a1-b031a3b33b8c"
      },
      "execution_count": null,
      "outputs": [
        {
          "output_type": "stream",
          "name": "stdout",
          "text": [
            "[1 0 2 ... 0 2 2]\n"
          ]
        }
      ]
    },
    {
      "cell_type": "code",
      "source": [
        "print(Y_test)"
      ],
      "metadata": {
        "colab": {
          "base_uri": "https://localhost:8080/"
        },
        "id": "FLkzCZ6At8Cy",
        "outputId": "91092726-4bb2-442b-ddd8-88fde49cef1d"
      },
      "execution_count": null,
      "outputs": [
        {
          "output_type": "stream",
          "name": "stdout",
          "text": [
            "[[0.0 0.0 1.0 ... 0.0 3 5]\n",
            " [1.0 0.0 0.0 ... 1.0 3 5]\n",
            " [1.0 0.0 0.0 ... 1.0 5 2]\n",
            " ...\n",
            " [0.0 0.0 0.0 ... 0.0 4 2]\n",
            " [0.0 0.0 0.0 ... 1.0 3 5]\n",
            " [0.0 0.0 0.0 ... 1.0 5 4]]\n"
          ]
        }
      ]
    },
    {
      "cell_type": "code",
      "source": [
        "print(Y_train)"
      ],
      "metadata": {
        "colab": {
          "base_uri": "https://localhost:8080/"
        },
        "id": "Wp0rm1vWt_to",
        "outputId": "eb8836ba-31df-4654-938f-5d992fad5b69"
      },
      "execution_count": null,
      "outputs": [
        {
          "output_type": "stream",
          "name": "stdout",
          "text": [
            "[[0.0 1.0 0.0 ... 1.0 4 4]\n",
            " [1.0 0.0 0.0 ... 1.0 5 4]\n",
            " [0.0 0.0 0.0 ... 0.0 5 2]\n",
            " ...\n",
            " [0.0 0.0 1.0 ... 1.0 2 4]\n",
            " [0.0 0.0 0.0 ... 1.0 2 5]\n",
            " [0.0 0.0 1.0 ... 0.0 5 2]]\n"
          ]
        }
      ]
    },
    {
      "cell_type": "markdown",
      "source": [
        "## Feature Scaling"
      ],
      "metadata": {
        "id": "rY5x8nhJ0HBn"
      }
    },
    {
      "cell_type": "code",
      "source": [
        "from sklearn.preprocessing import StandardScaler #feature scaling was not needed still done to show steps\n",
        "sc = StandardScaler()\n",
        "\n",
        "Y_train[:, -2:] = sc.fit_transform(Y_train[:, -2:])\n",
        "\n",
        "Y_test[:, -2:] = sc.transform(Y_test[:, -2:])"
      ],
      "metadata": {
        "id": "mk_Upw_F0SJX"
      },
      "execution_count": null,
      "outputs": []
    },
    {
      "cell_type": "code",
      "source": [
        "print(Y_train)"
      ],
      "metadata": {
        "colab": {
          "base_uri": "https://localhost:8080/"
        },
        "id": "LEr8x6OS1bBt",
        "outputId": "746cdae3-52a7-4ca3-80c5-c55357bedf35"
      },
      "execution_count": null,
      "outputs": [
        {
          "output_type": "stream",
          "name": "stdout",
          "text": [
            "[[0.0 1.0 0.0 ... 1.0 0.44967095969958154 0.26731854823180684]\n",
            " [1.0 0.0 0.0 ... 1.0 1.3399936907953147 0.26731854823180684]\n",
            " [0.0 0.0 0.0 ... 0.0 1.3399936907953147 -1.3530070379802859]\n",
            " ...\n",
            " [0.0 0.0 1.0 ... 1.0 -1.3309745024918849 0.26731854823180684]\n",
            " [0.0 0.0 0.0 ... 1.0 -1.3309745024918849 1.0774813413378532]\n",
            " [0.0 0.0 1.0 ... 0.0 1.3399936907953147 -1.3530070379802859]]\n"
          ]
        }
      ]
    },
    {
      "cell_type": "code",
      "source": [
        "\n",
        "print(Y_test)"
      ],
      "metadata": {
        "colab": {
          "base_uri": "https://localhost:8080/"
        },
        "id": "Ild286xd1qVS",
        "outputId": "cb0c4b0d-302f-4d6b-b9a7-bef1ad9c8970"
      },
      "execution_count": null,
      "outputs": [
        {
          "output_type": "stream",
          "name": "stdout",
          "text": [
            "[[0.0 0.0 1.0 ... 0.0 -0.44065177139615164 1.0774813413378532]\n",
            " [1.0 0.0 0.0 ... 1.0 -0.44065177139615164 1.0774813413378532]\n",
            " [1.0 0.0 0.0 ... 1.0 1.3399936907953147 -1.3530070379802859]\n",
            " ...\n",
            " [0.0 0.0 0.0 ... 0.0 0.44967095969958154 -1.3530070379802859]\n",
            " [0.0 0.0 0.0 ... 1.0 -0.44065177139615164 1.0774813413378532]\n",
            " [0.0 0.0 0.0 ... 1.0 1.3399936907953147 0.26731854823180684]]\n"
          ]
        }
      ]
    }
  ]
}